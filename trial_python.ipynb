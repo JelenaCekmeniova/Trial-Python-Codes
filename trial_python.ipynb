{
 "cells": [
  {
   "cell_type": "code",
   "execution_count": null,
   "id": "464a6377-09ea-4fd9-a295-3b69fffa58e9",
   "metadata": {},
   "outputs": [],
   "source": [
    "# Task 1: Pythagorean Theorem"
   ]
  },
  {
   "cell_type": "code",
   "execution_count": 77,
   "id": "445720f1-17b2-414a-af09-9ad5cead5806",
   "metadata": {},
   "outputs": [
    {
     "name": "stdout",
     "output_type": "stream",
     "text": [
      "Pythagorean Theorem says that the square of the hypotenuse is equal to the sum of the squares of the other two sides.\n",
      "Let's try it!\n",
      "Please, give the length for one side of the right triangle.\n"
     ]
    },
    {
     "name": "stdin",
     "output_type": "stream",
     "text": [
      " 3\n"
     ]
    },
    {
     "name": "stdout",
     "output_type": "stream",
     "text": [
      "The length of hypotenuse is 4.242640687119285\n"
     ]
    }
   ],
   "source": [
    "print(\"Pythagorean Theorem says that the square of the hypotenuse is equal to the sum of the squares of the other two sides.\")\n",
    "print(\"Let\\'s try it!\")\n",
    "print(\"Please, give the length for one side of the right triangle.\")\n",
    "side_1 = float(input())\n",
    "side_2 = side_1\n",
    "print(\"The length of hypotenuse is\", ((side_1**2 + side_2**2)**0.5))"
   ]
  },
  {
   "cell_type": "code",
   "execution_count": null,
   "id": "2692ec33-4627-44cb-8cb5-5a0ba83b3794",
   "metadata": {},
   "outputs": [],
   "source": []
  },
  {
   "cell_type": "code",
   "execution_count": null,
   "id": "99d3ab3c-aa92-4e73-abde-2575219d72bb",
   "metadata": {},
   "outputs": [],
   "source": [
    "# Task 2: Distance measurement convertor"
   ]
  },
  {
   "cell_type": "code",
   "execution_count": 79,
   "id": "389fde4f-5f56-4488-9adc-342aaa043b12",
   "metadata": {},
   "outputs": [
    {
     "name": "stdout",
     "output_type": "stream",
     "text": [
      "Now, let's convert kilometres into miles and vice versa.\n",
      "Please, enter kilometers here:\n"
     ]
    },
    {
     "name": "stdin",
     "output_type": "stream",
     "text": [
      " 4\n"
     ]
    },
    {
     "name": "stdout",
     "output_type": "stream",
     "text": [
      "4.0 kilometers is 2.484472049689441 miles.\n",
      "Now, converting miles into kilometers.\n",
      "Please, enter miles here:\n"
     ]
    },
    {
     "name": "stdin",
     "output_type": "stream",
     "text": [
      " 5\n"
     ]
    },
    {
     "name": "stdout",
     "output_type": "stream",
     "text": [
      "5.0 miles is 8.05 kilometers\n"
     ]
    }
   ],
   "source": [
    "print(\"Now, let\\'s convert kilometres into miles and vice versa.\")\n",
    "print(\"Please, enter kilometers here:\")\n",
    "km = float(input())\n",
    "mile = km / 1.61\n",
    "print(km, \"kilometers is\", mile, \"miles.\")\n",
    "print(\"Now, converting miles into kilometers.\")\n",
    "print(\"Please, enter miles here:\")\n",
    "mile = float(input())\n",
    "km = mile * 1.61\n",
    "print(mile, \"miles is\", km, \"kilometers\")"
   ]
  },
  {
   "cell_type": "code",
   "execution_count": null,
   "id": "a6cac287-d4fb-4a51-be7e-75acf2c2c566",
   "metadata": {},
   "outputs": [],
   "source": []
  },
  {
   "cell_type": "code",
   "execution_count": null,
   "id": "1bb56ff5-032c-48d3-8a07-7a1557b18578",
   "metadata": {},
   "outputs": [],
   "source": [
    "# Task 3: Finding circle area"
   ]
  },
  {
   "cell_type": "code",
   "execution_count": 2,
   "id": "b8121e02-fab7-4c2f-a33a-6b5f3cf03ea6",
   "metadata": {},
   "outputs": [
    {
     "name": "stdout",
     "output_type": "stream",
     "text": [
      "Now, let's calculate circle area.\n",
      "Please, enter radius here:\n"
     ]
    },
    {
     "name": "stdin",
     "output_type": "stream",
     "text": [
      " 2\n"
     ]
    },
    {
     "name": "stdout",
     "output_type": "stream",
     "text": [
      "Circle area is 12.56636\n"
     ]
    }
   ],
   "source": [
    "print(\"Now, let\\'s calculate circle area.\")\n",
    "print(\"Please, enter radius here:\")\n",
    "r = float(input())\n",
    "area = (r**2) * 3.14159\n",
    "print(\"Circle area is\", area)"
   ]
  },
  {
   "cell_type": "code",
   "execution_count": 4,
   "id": "db72fcfb-8003-4c81-9611-81319bd1f8d4",
   "metadata": {},
   "outputs": [],
   "source": [
    "import math\n"
   ]
  },
  {
   "cell_type": "code",
   "execution_count": 6,
   "id": "a838fb37-b09d-4e6e-8fdd-35fc054e0e72",
   "metadata": {},
   "outputs": [
    {
     "data": {
      "text/plain": [
       "3.141592653589793"
      ]
     },
     "execution_count": 6,
     "metadata": {},
     "output_type": "execute_result"
    }
   ],
   "source": [
    "math.pi\n"
   ]
  },
  {
   "cell_type": "code",
   "execution_count": null,
   "id": "7b9e1891-6174-4f17-b956-eb91c775353f",
   "metadata": {},
   "outputs": [],
   "source": []
  }
 ],
 "metadata": {
  "kernelspec": {
   "display_name": "anaconda-panel-2023.05-py310",
   "language": "python",
   "name": "conda-env-anaconda-panel-2023.05-py310-py"
  },
  "language_info": {
   "codemirror_mode": {
    "name": "ipython",
    "version": 3
   },
   "file_extension": ".py",
   "mimetype": "text/x-python",
   "name": "python",
   "nbconvert_exporter": "python",
   "pygments_lexer": "ipython3",
   "version": "3.11.4"
  }
 },
 "nbformat": 4,
 "nbformat_minor": 5
}
